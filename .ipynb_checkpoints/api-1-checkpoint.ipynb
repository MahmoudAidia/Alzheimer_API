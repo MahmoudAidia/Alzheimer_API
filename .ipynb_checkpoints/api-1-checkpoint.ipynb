{
 "cells": [
  {
   "cell_type": "code",
   "execution_count": 1,
   "id": "e00877b9",
   "metadata": {},
   "outputs": [
    {
     "name": "stdout",
     "output_type": "stream",
     "text": [
      "2.11.1\n"
     ]
    }
   ],
   "source": [
    "import tensorflow as tf\n",
    "print(tf.__version__)\n"
   ]
  },
  {
   "cell_type": "code",
   "execution_count": null,
   "id": "7e01bf6c",
   "metadata": {},
   "outputs": [
    {
     "name": "stdout",
     "output_type": "stream",
     "text": [
      " * Serving Flask app \"__main__\" (lazy loading)\n",
      " * Environment: production\n",
      "\u001b[31m   WARNING: This is a development server. Do not use it in a production deployment.\u001b[0m\n",
      "\u001b[2m   Use a production WSGI server instead.\u001b[0m\n",
      " * Debug mode: off\n"
     ]
    },
    {
     "name": "stderr",
     "output_type": "stream",
     "text": [
      " * Running on http://127.0.0.1:5000/ (Press CTRL+C to quit)\n"
     ]
    },
    {
     "name": "stdout",
     "output_type": "stream",
     "text": [
      "1/1 [==============================] - 0s 109ms/step\n"
     ]
    },
    {
     "name": "stderr",
     "output_type": "stream",
     "text": [
      "127.0.0.1 - - [04/Jul/2024 00:43:10] \"POST //upload HTTP/1.1\" 200 -\n"
     ]
    },
    {
     "name": "stdout",
     "output_type": "stream",
     "text": [
      "Very_Mild_Demented\n",
      "[[-0.17561024 -0.12460048 -0.02403047  0.18588069]]\n",
      "Prediction Accuracy 0.18588069\n",
      "1/1 [==============================] - 0s 67ms/step\n"
     ]
    },
    {
     "name": "stderr",
     "output_type": "stream",
     "text": [
      "127.0.0.1 - - [04/Jul/2024 00:43:15] \"POST //upload HTTP/1.1\" 200 -\n"
     ]
    },
    {
     "name": "stdout",
     "output_type": "stream",
     "text": [
      "Very_Mild_Demented\n",
      "[[-0.17561024 -0.12460048 -0.02403047  0.18588069]]\n",
      "Prediction Accuracy 0.18588069\n",
      "1/1 [==============================] - 0s 69ms/step\n"
     ]
    },
    {
     "name": "stderr",
     "output_type": "stream",
     "text": [
      "127.0.0.1 - - [04/Jul/2024 00:43:15] \"POST //upload HTTP/1.1\" 200 -\n"
     ]
    },
    {
     "name": "stdout",
     "output_type": "stream",
     "text": [
      "Very_Mild_Demented\n",
      "[[-0.17561024 -0.12460048 -0.02403047  0.18588069]]\n",
      "Prediction Accuracy 0.18588069\n",
      "1/1 [==============================] - 0s 67ms/step\n"
     ]
    },
    {
     "name": "stderr",
     "output_type": "stream",
     "text": [
      "127.0.0.1 - - [04/Jul/2024 00:44:06] \"POST //upload HTTP/1.1\" 200 -\n"
     ]
    },
    {
     "name": "stdout",
     "output_type": "stream",
     "text": [
      "Very_Mild_Demented\n",
      "[[-0.17561024 -0.12460048 -0.02403047  0.18588069]]\n",
      "Prediction Accuracy 0.18588069\n"
     ]
    }
   ],
   "source": [
    "from flask import Flask, request, jsonify\n",
    "from flask_cors import CORS\n",
    "from PIL import Image\n",
    "import tensorflow as tf\n",
    "from tensorflow.keras.models import load_model\n",
    "\n",
    "import numpy as np\n",
    "import os\n",
    "\n",
    "app = Flask(__name__)\n",
    "CORS(app)  # Enable CORS to allow communication with the React app\n",
    "\n",
    "# Create a directory to save uploaded images\n",
    "UPLOAD_FOLDER = 'uploads'\n",
    "if not os.path.exists(UPLOAD_FOLDER):\n",
    "    os.makedirs(UPLOAD_FOLDER)\n",
    "\n",
    "app.config['UPLOAD_FOLDER'] = UPLOAD_FOLDER\n",
    "\n",
    "def prepare_image_for_model(image, img_height=180, img_width=180):\n",
    "    # Convert the image to RGB if it's not already\n",
    "    if image.mode != 'RGB':\n",
    "        image = image.convert('RGB')\n",
    "    img = image.resize((img_width, img_height), Image.LANCZOS)\n",
    "    img_array = np.array(img) / 255.0\n",
    "    img_array = np.expand_dims(img_array, axis=0)  # Add batch dimension\n",
    "    return img_array\n",
    "\n",
    "\n",
    "@app.route('/upload', methods=['POST'])\n",
    "def upload_image():\n",
    "    if 'image' not in request.files:\n",
    "        return jsonify({'error': 'No image file found'}), 400\n",
    "    \n",
    "    file = request.files['image']\n",
    "    if file.filename == '':\n",
    "        return jsonify({'error': 'No selected file'}), 400\n",
    "    \n",
    "    filepath = os.path.join(app.config['UPLOAD_FOLDER'], file.filename)\n",
    "    file.save(filepath)\n",
    "\n",
    "    # Open and preprocess the image\n",
    "    image = Image.open(filepath)\n",
    "    processed_image = prepare_image_for_model(image)  # Example target size\n",
    "    \n",
    "    labels =['Mild_Demented', 'Moderate_Demented', 'Non_Demented', 'Very_Mild_Demented']\n",
    "    model = load_model(\"./alzeihmer_model.h5\", compile=False)\n",
    "    model.compile(optimizer='adam', loss=tf.keras.losses.SparseCategoricalCrossentropy(from_logits=True))\n",
    "    \n",
    "    prediction = model.predict(processed_image)\n",
    "    result = labels[np.argmax(prediction)]\n",
    "    # Here, you can now pass preprocessed_image to your deep learning model\n",
    "    print(result)\n",
    "    print(prediction)\n",
    "    print(\"Prediction Accuracy\", np.max(prediction))\n",
    "    # For now, we'll just return the shape of the preprocessed image\n",
    "    return jsonify({'message': 'Image successfully uploaded', 'shape': result}), 200\n",
    "\n",
    "if __name__ == '__main__':\n",
    "    app.run(debug=False)\n"
   ]
  },
  {
   "cell_type": "code",
   "execution_count": null,
   "id": "e013188a",
   "metadata": {},
   "outputs": [],
   "source": []
  }
 ],
 "metadata": {
  "kernelspec": {
   "display_name": "Python 3 (ipykernel)",
   "language": "python",
   "name": "python3"
  },
  "language_info": {
   "codemirror_mode": {
    "name": "ipython",
    "version": 3
   },
   "file_extension": ".py",
   "mimetype": "text/x-python",
   "name": "python",
   "nbconvert_exporter": "python",
   "pygments_lexer": "ipython3",
   "version": "3.9.13"
  }
 },
 "nbformat": 4,
 "nbformat_minor": 5
}
