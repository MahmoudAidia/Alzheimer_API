{
 "cells": [
  {
   "cell_type": "code",
   "execution_count": null,
   "id": "e00877b9",
   "metadata": {},
   "outputs": [],
   "source": [
    "import tensorflow as tf\n",
    "print(tf.__version__)\n"
   ]
  },
  {
   "cell_type": "code",
   "execution_count": null,
   "id": "7e01bf6c",
   "metadata": {},
   "outputs": [
    {
     "name": "stdout",
     "output_type": "stream",
     "text": [
      " * Serving Flask app \"__main__\" (lazy loading)\n",
      " * Environment: production\n",
      "\u001b[31m   WARNING: This is a development server. Do not use it in a production deployment.\u001b[0m\n",
      "\u001b[2m   Use a production WSGI server instead.\u001b[0m\n",
      " * Debug mode: off\n"
     ]
    },
    {
     "name": "stderr",
     "output_type": "stream",
     "text": [
      " * Running on http://127.0.0.1:5000/ (Press CTRL+C to quit)\n"
     ]
    },
    {
     "name": "stdout",
     "output_type": "stream",
     "text": [
      "1/1 [==============================] - 0s 114ms/step\n"
     ]
    },
    {
     "name": "stderr",
     "output_type": "stream",
     "text": [
      "127.0.0.1 - - [04/Jul/2024 20:45:58] \"POST //upload HTTP/1.1\" 200 -\n"
     ]
    },
    {
     "name": "stdout",
     "output_type": "stream",
     "text": [
      "The accuracy [2.3222648e-07 3.4712550e-06 1.8849684e-02 9.8114657e-01]\n",
      "3\n",
      "Very_Mild_Demented\n",
      "1/1 [==============================] - 0s 73ms/step\n"
     ]
    },
    {
     "name": "stderr",
     "output_type": "stream",
     "text": [
      "127.0.0.1 - - [04/Jul/2024 20:46:22] \"POST //upload HTTP/1.1\" 200 -\n"
     ]
    },
    {
     "name": "stdout",
     "output_type": "stream",
     "text": [
      "The accuracy [3.1309085e-06 6.2638117e-07 9.9980956e-01 1.8679078e-04]\n",
      "2\n",
      "Non_Demented\n",
      "1/1 [==============================] - 0s 64ms/step\n"
     ]
    },
    {
     "name": "stderr",
     "output_type": "stream",
     "text": [
      "127.0.0.1 - - [04/Jul/2024 20:46:45] \"POST //upload HTTP/1.1\" 200 -\n"
     ]
    },
    {
     "name": "stdout",
     "output_type": "stream",
     "text": [
      "The accuracy [3.3575887e-09 9.9991822e-01 7.9370708e-05 2.3818309e-06]\n",
      "1\n",
      "Moderate_Demented\n",
      "1/1 [==============================] - 0s 68ms/step\n"
     ]
    },
    {
     "name": "stderr",
     "output_type": "stream",
     "text": [
      "127.0.0.1 - - [04/Jul/2024 20:48:44] \"POST //upload HTTP/1.1\" 200 -\n"
     ]
    },
    {
     "name": "stdout",
     "output_type": "stream",
     "text": [
      "The accuracy [3.1309085e-06 6.2638117e-07 9.9980956e-01 1.8679078e-04]\n",
      "2\n",
      "Non_Demented\n"
     ]
    }
   ],
   "source": [
    "from flask import Flask, request, jsonify\n",
    "from flask_cors import CORS\n",
    "from PIL import Image\n",
    "import tensorflow as tf\n",
    "from tensorflow.keras.models import load_model\n",
    "\n",
    "import numpy as np\n",
    "import os\n",
    "\n",
    "app = Flask(__name__)\n",
    "CORS(app)  # Enable CORS to allow communication with the React app\n",
    "\n",
    "# Create a directory to save uploaded images\n",
    "UPLOAD_FOLDER = 'uploads'\n",
    "if not os.path.exists(UPLOAD_FOLDER):\n",
    "    os.makedirs(UPLOAD_FOLDER)\n",
    "\n",
    "app.config['UPLOAD_FOLDER'] = UPLOAD_FOLDER\n",
    "\n",
    "# Prepare image for model function\n",
    "def prepare_image_for_model(image, img_height=128, img_width=128):\n",
    "    # Convert the image to RGB if it's not already\n",
    "    if image.mode != 'RGB':\n",
    "        image = image.convert('RGB')\n",
    "    img = image.resize((img_width, img_height), Image.LANCZOS)\n",
    "    img_array = np.array(img) / 255.0\n",
    "    img_array = np.expand_dims(img_array, axis=0)  # Add batch dimension\n",
    "    return img_array\n",
    "\n",
    "@app.route('/upload', methods=['POST'])\n",
    "def upload_image():\n",
    "    if 'image' not in request.files:\n",
    "        return jsonify({'error': 'No image file found'}), 400\n",
    "    \n",
    "    file = request.files['image']\n",
    "    if file.filename == '':\n",
    "        return jsonify({'error': 'No selected file'}), 400\n",
    "    \n",
    "    filepath = os.path.join(app.config['UPLOAD_FOLDER'], file.filename)\n",
    "    file.save(filepath)\n",
    "\n",
    "    # Open and preprocess the image\n",
    "    image = Image.open(filepath)\n",
    "    processed_image = prepare_image_for_model(image)  # Example target size\n",
    "    processed_image = np.array(processed_image, dtype=np.float32)\n",
    "    labels =['Mild_Demented', 'Moderate_Demented', 'Non_Demented', 'Very_Mild_Demented']\n",
    "    model = load_model('./model.h5')\n",
    "    \n",
    "    prediction =  model.predict(processed_image)\n",
    "    print('The accuracy',max(prediction))\n",
    "    index = np.argmax(prediction)\n",
    "    print(index)\n",
    "    result = labels[index]\n",
    "    print(result)\n",
    "    \n",
    "    \n",
    "    # For now, we'll just return the shape of the preprocessed image\n",
    "    return jsonify({'message': 'Image successfully uploaded', 'shape': result}), 200\n",
    "\n",
    "if __name__ == '__main__':\n",
    "    app.run(debug=False)\n"
   ]
  },
  {
   "cell_type": "code",
   "execution_count": null,
   "id": "e013188a",
   "metadata": {},
   "outputs": [],
   "source": []
  }
 ],
 "metadata": {
  "kernelspec": {
   "display_name": "Python 3 (ipykernel)",
   "language": "python",
   "name": "python3"
  },
  "language_info": {
   "codemirror_mode": {
    "name": "ipython",
    "version": 3
   },
   "file_extension": ".py",
   "mimetype": "text/x-python",
   "name": "python",
   "nbconvert_exporter": "python",
   "pygments_lexer": "ipython3",
   "version": "3.9.13"
  }
 },
 "nbformat": 4,
 "nbformat_minor": 5
}
